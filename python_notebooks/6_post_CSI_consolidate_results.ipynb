{
 "cells": [
  {
   "cell_type": "code",
   "execution_count": 2,
   "id": "cc00980e",
   "metadata": {},
   "outputs": [],
   "source": [
    "import os\n",
    "import zipfile\n",
    "import pandas as pd"
   ]
  },
  {
   "cell_type": "code",
   "execution_count": 6,
   "id": "da64310c",
   "metadata": {},
   "outputs": [],
   "source": [
    "# Read norman and sirius identification files produced. Also read feature finder correlation file\n",
    "corr_cutoff = 0.75\n",
    "input_sirius_file = \"analysis_results/cov0.9_corr\"+str(corr_cutoff)+\".sirius\"\n",
    "norman_identification_file = \"analysis_results/coverage0.9_correlation\"+str(corr_cutoff)+\"_identification.tsv\"\n",
    "found_feature_file = \"analysis_results/coverage0.9_correlation\"+str(corr_cutoff)+\".csv\""
   ]
  },
  {
   "cell_type": "code",
   "execution_count": 7,
   "id": "ce54d88c",
   "metadata": {},
   "outputs": [],
   "source": [
    "# Extract a given sirius file to a folder \"temp\"\n",
    "# Extract at the location of the sirius file\n",
    "# Used along with compare_fp_from_sirius function\n",
    "def extract_sirius_file(sirius_file,folder_name=\"temp\"):\n",
    "    # Extract and search, use for small files. Pretty memory and I/O intensive\n",
    "    path = os.path.dirname(os.path.abspath(sirius_file)) + \"/\"\n",
    "    zf = zipfile.ZipFile(sirius_file)\n",
    "    try:\n",
    "        os.mkdir(path + folder_name)\n",
    "    except:\n",
    "        pass\n",
    "    zf.extractall(path + folder_name)\n",
    "    zf.close()\n",
    "\n",
    "def get_sirius_results(sirius_file):\n",
    "    extract_sirius_file(sirius_file)\n",
    "    true_hits = []\n",
    "    path = os.path.dirname(os.path.abspath(sirius_file)) + \"/\"\n",
    "    all_structure_file = path + 'temp/compound_identifications.tsv'\n",
    "    output_df = pd.read_csv(all_structure_file,sep=\"\\t\")\n",
    "    os.system(\"rm -r \"+ path + \"temp\")\n",
    "    return  output_df"
   ]
  },
  {
   "cell_type": "code",
   "execution_count": 8,
   "id": "1c92a416",
   "metadata": {},
   "outputs": [],
   "source": [
    "# Read the files as a dataframe\n",
    "sirius_df = get_sirius_results(input_sirius_file)\n",
    "norman_id_df = pd.read_csv(norman_identification_file,sep=\"\\t\") \n",
    "ff_df = pd.read_csv(found_feature_file) "
   ]
  },
  {
   "cell_type": "code",
   "execution_count": 9,
   "id": "7c8ed005",
   "metadata": {
    "scrolled": true
   },
   "outputs": [
    {
     "name": "stderr",
     "output_type": "stream",
     "text": [
      "/tmp/ipykernel_154051/2311950403.py:11: SettingWithCopyWarning: \n",
      "A value is trying to be set on a copy of a slice from a DataFrame\n",
      "\n",
      "See the caveats in the documentation: https://pandas.pydata.org/pandas-docs/stable/user_guide/indexing.html#returning-a-view-versus-a-copy\n",
      "  consolidated_results.rename({'Unnamed: 0_x': 'Unnamed',\n"
     ]
    }
   ],
   "source": [
    "# Left join the files to produce all the results in once single file\n",
    "ff_norman_df = ff_df.merge(norman_id_df.rename({'met_id': 'Met_ID'}, axis=1),\n",
    "               left_on='Met_ID', right_on='Met_ID', how='left')\n",
    "\n",
    "sirius_ff_normal_df = ff_norman_df.merge(sirius_df.rename({'ionMass': 'mz_cf_x'}, axis=1),\n",
    "               left_on='mz_cf_x', right_on='mz_cf_x', how='left')\n",
    "\n",
    "consolidated_results = sirius_ff_normal_df[['Unnamed: 0_x', 'Met_ID', 'rt_cf_x', 'mz_cf_x', 'intensity_cf_x',\n",
    "       'label_x', 'real_name_x', 'log_k', 'pred_log_k_value','names',\n",
    "       'adduct', 'name', 'smiles', 'links', 'id']]\n",
    "consolidated_results.rename({'Unnamed: 0_x': 'Unnamed',\n",
    "                             'rt_cf_x': 'rt_cf_ff',\n",
    "                             'mz_cf_x': 'mz_cf_ff',\n",
    "                             'intensity_cf_x': 'intensity_cf_ff',\n",
    "                            'label_x': 'label_clustering',\n",
    "                            'real_name_x': 'real_name_inhouse',\n",
    "                            'log_k': 'log_k_norman',\n",
    "                            'adduct': 'adduct_sirius',\n",
    "                            'name': 'name_sirius',\n",
    "                            'smiles': 'smiles_sirius',\n",
    "                            'links': 'links_sirius',\n",
    "                            'id': 'id_sirius',\n",
    "                            'Met_ID':'Met_ID_ff',\n",
    "                            'pred_log_k_value':'pred_log_k_value_lm',\n",
    "                            'names':'names_norman'}, axis=1,inplace=True)"
   ]
  },
  {
   "cell_type": "code",
   "execution_count": 11,
   "id": "6ef69ba4",
   "metadata": {},
   "outputs": [],
   "source": [
    "# Save the results in a CSV\n",
    "consolidated_results.to_csv(\"analysis_results/cov0.9_corr\" + str(corr_cutoff) + \"_consolidated.csv\")"
   ]
  },
  {
   "cell_type": "code",
   "execution_count": null,
   "id": "a7a46ebf",
   "metadata": {},
   "outputs": [],
   "source": []
  }
 ],
 "metadata": {
  "kernelspec": {
   "display_name": "gnn",
   "language": "python",
   "name": "gnn"
  },
  "language_info": {
   "codemirror_mode": {
    "name": "ipython",
    "version": 3
   },
   "file_extension": ".py",
   "mimetype": "text/x-python",
   "name": "python",
   "nbconvert_exporter": "python",
   "pygments_lexer": "ipython3",
   "version": "3.9.13"
  }
 },
 "nbformat": 4,
 "nbformat_minor": 5
}
